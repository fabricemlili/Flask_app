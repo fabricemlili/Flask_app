{
 "cells": [
  {
   "cell_type": "code",
   "execution_count": 9,
   "metadata": {},
   "outputs": [],
   "source": [
    "import time\n",
    "from collections import Counter\n",
    "import matplotlib.pyplot as plt\n",
    "\n",
    "def count_words_dict(text):\n",
    "    word_count = {}\n",
    "    for word in text.split():\n",
    "        if word in word_count:\n",
    "            word_count[word] += 1\n",
    "        else:\n",
    "            word_count[word] = 1\n",
    "    return word_count\n",
    "\n",
    "\n",
    "def count_words_counter(text):\n",
    "    return Counter(text.split())"
   ]
  },
  {
   "cell_type": "code",
   "execution_count": 10,
   "metadata": {},
   "outputs": [
    {
     "data": {
      "image/png": "[encoded data removed]",
      "text/plain": [
       "<Figure size 432x288 with 1 Axes>"
      ]
     },
     "metadata": {
      "needs_background": "light"
     },
     "output_type": "display_data"
    }
   ],
   "source": [
    "\n",
    "def counter(size = 100):\n",
    "\n",
    "    with open('shakespeare.txt', 'r') as f:\n",
    "        text = f.read()\n",
    "    dict_computed = []\n",
    "    count_computed = []\n",
    "\n",
    "    for i in range(size):\n",
    "\n",
    "    \n",
    "        start_time = time.time()\n",
    "        count_words_dict(text)\n",
    "        f1 = time.time() - start_time\n",
    "\n",
    "        start_time = time.time()\n",
    "        count_words_counter(text)\n",
    "        f2 = time.time() - start_time\n",
    "\n",
    "        dict_computed.append(f1)\n",
    "        count_computed.append(f2)\n",
    "\n",
    "    plt.figure()\n",
    "    # Plot the first distribution\n",
    "    plt.hist(dict_computed, alpha=0.5, label='dictionnary')\n",
    "\n",
    "    # Plot the second distribution\n",
    "    plt.hist(count_computed, alpha=0.5, label='func Counter')\n",
    "\n",
    "    # Add a legend\n",
    "    plt.legend(loc='upper right')\n",
    "\n",
    "    # Show the plot\n",
    "    plt.show()\n",
    "\n",
    "    \n",
    "counter()"
   ]
  }
 ],
 "metadata": {
  "kernelspec": {
   "display_name": "Python 3.10.6 64-bit",
   "language": "python",
   "name": "python3"
  },
  "language_info": {
   "codemirror_mode": {
    "name": "ipython",
    "version": 3
   },
   "file_extension": ".py",
   "mimetype": "text/x-python",
   "name": "python",
   "nbconvert_exporter": "python",
   "pygments_lexer": "ipython3",
   "version": "3.10.6"
  },
  "orig_nbformat": 4,
  "vscode": {
   "interpreter": {
    "hash": "916dbcbb3f70747c44a77c7bcd40155683ae19c65e1c03b4aa3499c5328201f1"
   }
  }
 },
 "nbformat": 4,
 "nbformat_minor": 2
}
